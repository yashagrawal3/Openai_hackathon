{
 "cells": [
  {
   "cell_type": "code",
   "execution_count": 2,
   "metadata": {
    "collapsed": true
   },
   "outputs": [],
   "source": [
    "import pandas as pd\n",
    "import numpy as np\n",
    "import matplotlib.pyplot as plt"
   ]
  },
  {
   "cell_type": "code",
   "execution_count": 3,
   "metadata": {
    "collapsed": true
   },
   "outputs": [],
   "source": [
    "student_grades   =   pd.read_csv('hackathon_data/student-mat.csv')\n",
    "# student_behavior =   pd.read_csv('hackathon_data/xAPI-Edu-Data.csv')"
   ]
  },
  {
   "cell_type": "code",
   "execution_count": 4,
   "metadata": {},
   "outputs": [
    {
     "name": "stdout",
     "output_type": "stream",
     "text": [
      "395\n",
      "    school sex  age address famsize Pstatus  Medu  Fedu      Mjob      Fjob  \\\n",
      "0       GP   F   18       U     GT3       A     4     4   at_home   teacher   \n",
      "1       GP   F   17       U     GT3       T     1     1   at_home     other   \n",
      "2       GP   F   15       U     LE3       T     1     1   at_home     other   \n",
      "3       GP   F   15       U     GT3       T     4     2    health  services   \n",
      "4       GP   F   16       U     GT3       T     3     3     other     other   \n",
      "5       GP   M   16       U     LE3       T     4     3  services     other   \n",
      "6       GP   M   16       U     LE3       T     2     2     other     other   \n",
      "7       GP   F   17       U     GT3       A     4     4     other   teacher   \n",
      "8       GP   M   15       U     LE3       A     3     2  services     other   \n",
      "9       GP   M   15       U     GT3       T     3     4     other     other   \n",
      "10      GP   F   15       U     GT3       T     4     4   teacher    health   \n",
      "11      GP   F   15       U     GT3       T     2     1  services     other   \n",
      "12      GP   M   15       U     LE3       T     4     4    health  services   \n",
      "13      GP   M   15       U     GT3       T     4     3   teacher     other   \n",
      "14      GP   M   15       U     GT3       A     2     2     other     other   \n",
      "15      GP   F   16       U     GT3       T     4     4    health     other   \n",
      "16      GP   F   16       U     GT3       T     4     4  services  services   \n",
      "17      GP   F   16       U     GT3       T     3     3     other     other   \n",
      "18      GP   M   17       U     GT3       T     3     2  services  services   \n",
      "19      GP   M   16       U     LE3       T     4     3    health     other   \n",
      "20      GP   M   15       U     GT3       T     4     3   teacher     other   \n",
      "21      GP   M   15       U     GT3       T     4     4    health    health   \n",
      "22      GP   M   16       U     LE3       T     4     2   teacher     other   \n",
      "23      GP   M   16       U     LE3       T     2     2     other     other   \n",
      "24      GP   F   15       R     GT3       T     2     4  services    health   \n",
      "25      GP   F   16       U     GT3       T     2     2  services  services   \n",
      "26      GP   M   15       U     GT3       T     2     2     other     other   \n",
      "27      GP   M   15       U     GT3       T     4     2    health  services   \n",
      "28      GP   M   16       U     LE3       A     3     4  services     other   \n",
      "29      GP   M   16       U     GT3       T     4     4   teacher   teacher   \n",
      "..     ...  ..  ...     ...     ...     ...   ...   ...       ...       ...   \n",
      "365     MS   M   18       R     GT3       T     1     3   at_home     other   \n",
      "366     MS   M   18       U     LE3       T     4     4   teacher  services   \n",
      "367     MS   F   17       R     GT3       T     1     1     other  services   \n",
      "368     MS   F   18       U     GT3       T     2     3   at_home  services   \n",
      "369     MS   F   18       R     GT3       T     4     4     other   teacher   \n",
      "370     MS   F   19       U     LE3       T     3     2  services  services   \n",
      "371     MS   M   18       R     LE3       T     1     2   at_home  services   \n",
      "372     MS   F   17       U     GT3       T     2     2     other   at_home   \n",
      "373     MS   F   17       R     GT3       T     1     2     other     other   \n",
      "374     MS   F   18       R     LE3       T     4     4     other     other   \n",
      "375     MS   F   18       R     GT3       T     1     1     other     other   \n",
      "376     MS   F   20       U     GT3       T     4     2    health     other   \n",
      "377     MS   F   18       R     LE3       T     4     4   teacher  services   \n",
      "378     MS   F   18       U     GT3       T     3     3     other     other   \n",
      "379     MS   F   17       R     GT3       T     3     1   at_home     other   \n",
      "380     MS   M   18       U     GT3       T     4     4   teacher   teacher   \n",
      "381     MS   M   18       R     GT3       T     2     1     other     other   \n",
      "382     MS   M   17       U     GT3       T     2     3     other  services   \n",
      "383     MS   M   19       R     GT3       T     1     1     other  services   \n",
      "384     MS   M   18       R     GT3       T     4     2     other     other   \n",
      "385     MS   F   18       R     GT3       T     2     2   at_home     other   \n",
      "386     MS   F   18       R     GT3       T     4     4   teacher   at_home   \n",
      "387     MS   F   19       R     GT3       T     2     3  services     other   \n",
      "388     MS   F   18       U     LE3       T     3     1   teacher  services   \n",
      "389     MS   F   18       U     GT3       T     1     1     other     other   \n",
      "390     MS   M   20       U     LE3       A     2     2  services  services   \n",
      "391     MS   M   17       U     LE3       T     3     1  services  services   \n",
      "392     MS   M   21       R     GT3       T     1     1     other     other   \n",
      "393     MS   M   18       R     LE3       T     3     2  services     other   \n",
      "394     MS   M   19       U     LE3       T     1     1     other   at_home   \n",
      "\n",
      "    ... famrel freetime  goout  Dalc  Walc health absences  G1  G2  G3  \n",
      "0   ...      4        3      4     1     1      3        6   5   6   6  \n",
      "1   ...      5        3      3     1     1      3        4   5   5   6  \n",
      "2   ...      4        3      2     2     3      3       10   7   8  10  \n",
      "3   ...      3        2      2     1     1      5        2  15  14  15  \n",
      "4   ...      4        3      2     1     2      5        4   6  10  10  \n",
      "5   ...      5        4      2     1     2      5       10  15  15  15  \n",
      "6   ...      4        4      4     1     1      3        0  12  12  11  \n",
      "7   ...      4        1      4     1     1      1        6   6   5   6  \n",
      "8   ...      4        2      2     1     1      1        0  16  18  19  \n",
      "9   ...      5        5      1     1     1      5        0  14  15  15  \n",
      "10  ...      3        3      3     1     2      2        0  10   8   9  \n",
      "11  ...      5        2      2     1     1      4        4  10  12  12  \n",
      "12  ...      4        3      3     1     3      5        2  14  14  14  \n",
      "13  ...      5        4      3     1     2      3        2  10  10  11  \n",
      "14  ...      4        5      2     1     1      3        0  14  16  16  \n",
      "15  ...      4        4      4     1     2      2        4  14  14  14  \n",
      "16  ...      3        2      3     1     2      2        6  13  14  14  \n",
      "17  ...      5        3      2     1     1      4        4   8  10  10  \n",
      "18  ...      5        5      5     2     4      5       16   6   5   5  \n",
      "19  ...      3        1      3     1     3      5        4   8  10  10  \n",
      "20  ...      4        4      1     1     1      1        0  13  14  15  \n",
      "21  ...      5        4      2     1     1      5        0  12  15  15  \n",
      "22  ...      4        5      1     1     3      5        2  15  15  16  \n",
      "23  ...      5        4      4     2     4      5        0  13  13  12  \n",
      "24  ...      4        3      2     1     1      5        2  10   9   8  \n",
      "25  ...      1        2      2     1     3      5       14   6   9   8  \n",
      "26  ...      4        2      2     1     2      5        2  12  12  11  \n",
      "27  ...      2        2      4     2     4      1        4  15  16  15  \n",
      "28  ...      5        3      3     1     1      5        4  11  11  11  \n",
      "29  ...      4        4      5     5     5      5       16  10  12  11  \n",
      "..  ...    ...      ...    ...   ...   ...    ...      ...  ..  ..  ..  \n",
      "365 ...      3        3      4     2     4      3        4  10  10  10  \n",
      "366 ...      4        2      2     2     2      5        0  13  13  13  \n",
      "367 ...      5        2      1     1     2      1        0   7   6   0  \n",
      "368 ...      5        2      3     1     2      4        0  11  10  10  \n",
      "369 ...      3        2      2     4     2      5       10  14  12  11  \n",
      "370 ...      3        2      2     1     1      3        4   7   7   9  \n",
      "371 ...      4        3      3     2     3      3        3  14  12  12  \n",
      "372 ...      3        4      3     1     1      3        8  13  11  11  \n",
      "373 ...      3        5      5     1     3      1       14   6   5   5  \n",
      "374 ...      5        4      4     1     1      1        0  19  18  19  \n",
      "375 ...      4        3      2     1     2      4        2   8   8  10  \n",
      "376 ...      5        4      3     1     1      3        4  15  14  15  \n",
      "377 ...      5        4      3     3     4      2        4   8   9  10  \n",
      "378 ...      4        1      3     1     2      1        0  15  15  15  \n",
      "379 ...      4        5      4     2     3      1       17  10  10  10  \n",
      "380 ...      3        2      4     1     4      2        4  15  14  14  \n",
      "381 ...      4        4      3     1     3      5        5   7   6   7  \n",
      "382 ...      4        4      3     1     1      3        2  11  11  10  \n",
      "383 ...      4        3      2     1     3      5        0   6   5   0  \n",
      "384 ...      5        4      3     4     3      3       14   6   5   5  \n",
      "385 ...      5        3      3     1     3      4        2  10   9  10  \n",
      "386 ...      4        4      3     2     2      5        7   6   5   6  \n",
      "387 ...      5        4      2     1     2      5        0   7   5   0  \n",
      "388 ...      4        3      4     1     1      1        0   7   9   8  \n",
      "389 ...      1        1      1     1     1      5        0   6   5   0  \n",
      "390 ...      5        5      4     4     5      4       11   9   9   9  \n",
      "391 ...      2        4      5     3     4      2        3  14  16  16  \n",
      "392 ...      5        5      3     3     3      3        3  10   8   7  \n",
      "393 ...      4        4      1     3     4      5        0  11  12  10  \n",
      "394 ...      3        2      3     3     3      5        5   8   9   9  \n",
      "\n",
      "[395 rows x 33 columns]\n"
     ]
    }
   ],
   "source": [
    "print(len(student_grades))\n",
    "print(student_grades)"
   ]
  },
  {
   "cell_type": "code",
   "execution_count": 5,
   "metadata": {},
   "outputs": [
    {
     "name": "stdout",
     "output_type": "stream",
     "text": [
      "     sex  age  famsize  Pstatus  Medu  Fedu      Mjob      Fjob guardian  \\\n",
      "0      0   18        1        0     4     4   at_home   teacher        1   \n",
      "1      0   17        1        1     1     1   at_home     other        2   \n",
      "2      0   15        0        1     1     1   at_home     other        1   \n",
      "3      0   15        1        1     4     2    health  services        1   \n",
      "4      0   16        1        1     3     3     other     other        2   \n",
      "5      1   16        0        1     4     3  services     other        1   \n",
      "6      1   16        0        1     2     2     other     other        1   \n",
      "7      0   17        1        0     4     4     other   teacher        1   \n",
      "8      1   15        0        0     3     2  services     other        1   \n",
      "9      1   15        1        1     3     4     other     other        1   \n",
      "10     0   15        1        1     4     4   teacher    health        1   \n",
      "11     0   15        1        1     2     1  services     other        2   \n",
      "12     1   15        0        1     4     4    health  services        2   \n",
      "13     1   15        1        1     4     3   teacher     other        1   \n",
      "14     1   15        1        0     2     2     other     other        0   \n",
      "15     0   16        1        1     4     4    health     other        1   \n",
      "16     0   16        1        1     4     4  services  services        1   \n",
      "17     0   16        1        1     3     3     other     other        1   \n",
      "18     1   17        1        1     3     2  services  services        1   \n",
      "19     1   16        0        1     4     3    health     other        2   \n",
      "20     1   15        1        1     4     3   teacher     other        1   \n",
      "21     1   15        1        1     4     4    health    health        2   \n",
      "22     1   16        0        1     4     2   teacher     other        1   \n",
      "23     1   16        0        1     2     2     other     other        1   \n",
      "24     0   15        1        1     2     4  services    health        1   \n",
      "25     0   16        1        1     2     2  services  services        1   \n",
      "26     1   15        1        1     2     2     other     other        1   \n",
      "27     1   15        1        1     4     2    health  services        1   \n",
      "28     1   16        0        0     3     4  services     other        1   \n",
      "29     1   16        1        1     4     4   teacher   teacher        1   \n",
      "..   ...  ...      ...      ...   ...   ...       ...       ...      ...   \n",
      "365    1   18        1        1     1     3   at_home     other        1   \n",
      "366    1   18        0        1     4     4   teacher  services        1   \n",
      "367    0   17        1        1     1     1     other  services        1   \n",
      "368    0   18        1        1     2     3   at_home  services        2   \n",
      "369    0   18        1        1     4     4     other   teacher        2   \n",
      "370    0   19        0        1     3     2  services  services        0   \n",
      "371    1   18        0        1     1     2   at_home  services        2   \n",
      "372    0   17        1        1     2     2     other   at_home        1   \n",
      "373    0   17        1        1     1     2     other     other        1   \n",
      "374    0   18        0        1     4     4     other     other        1   \n",
      "375    0   18        1        1     1     1     other     other        1   \n",
      "376    0   20        1        1     4     2    health     other        0   \n",
      "377    0   18        0        1     4     4   teacher  services        1   \n",
      "378    0   18        1        1     3     3     other     other        1   \n",
      "379    0   17        1        1     3     1   at_home     other        1   \n",
      "380    1   18        1        1     4     4   teacher   teacher        2   \n",
      "381    1   18        1        1     2     1     other     other        1   \n",
      "382    1   17        1        1     2     3     other  services        2   \n",
      "383    1   19        1        1     1     1     other  services        1   \n",
      "384    1   18        1        1     4     2     other     other        2   \n",
      "385    0   18        1        1     2     2   at_home     other        1   \n",
      "386    0   18        1        1     4     4   teacher   at_home        1   \n",
      "387    0   19        1        1     2     3  services     other        1   \n",
      "388    0   18        0        1     3     1   teacher  services        1   \n",
      "389    0   18        1        1     1     1     other     other        1   \n",
      "390    1   20        0        0     2     2  services  services        0   \n",
      "391    1   17        0        1     3     1  services  services        1   \n",
      "392    1   21        1        1     1     1     other     other        0   \n",
      "393    1   18        0        1     3     2  services     other        1   \n",
      "394    1   19        0        1     1     1     other   at_home        2   \n",
      "\n",
      "     traveltime ...  famrel  freetime  goout  Dalc  Walc  health  absences  \\\n",
      "0             2 ...       4         3      4     1     1       3         6   \n",
      "1             1 ...       5         3      3     1     1       3         4   \n",
      "2             1 ...       4         3      2     2     3       3        10   \n",
      "3             1 ...       3         2      2     1     1       5         2   \n",
      "4             1 ...       4         3      2     1     2       5         4   \n",
      "5             1 ...       5         4      2     1     2       5        10   \n",
      "6             1 ...       4         4      4     1     1       3         0   \n",
      "7             2 ...       4         1      4     1     1       1         6   \n",
      "8             1 ...       4         2      2     1     1       1         0   \n",
      "9             1 ...       5         5      1     1     1       5         0   \n",
      "10            1 ...       3         3      3     1     2       2         0   \n",
      "11            3 ...       5         2      2     1     1       4         4   \n",
      "12            1 ...       4         3      3     1     3       5         2   \n",
      "13            2 ...       5         4      3     1     2       3         2   \n",
      "14            1 ...       4         5      2     1     1       3         0   \n",
      "15            1 ...       4         4      4     1     2       2         4   \n",
      "16            1 ...       3         2      3     1     2       2         6   \n",
      "17            3 ...       5         3      2     1     1       4         4   \n",
      "18            1 ...       5         5      5     2     4       5        16   \n",
      "19            1 ...       3         1      3     1     3       5         4   \n",
      "20            1 ...       4         4      1     1     1       1         0   \n",
      "21            1 ...       5         4      2     1     1       5         0   \n",
      "22            1 ...       4         5      1     1     3       5         2   \n",
      "23            2 ...       5         4      4     2     4       5         0   \n",
      "24            1 ...       4         3      2     1     1       5         2   \n",
      "25            1 ...       1         2      2     1     3       5        14   \n",
      "26            1 ...       4         2      2     1     2       5         2   \n",
      "27            1 ...       2         2      4     2     4       1         4   \n",
      "28            1 ...       5         3      3     1     1       5         4   \n",
      "29            1 ...       4         4      5     5     5       5        16   \n",
      "..          ... ...     ...       ...    ...   ...   ...     ...       ...   \n",
      "365           2 ...       3         3      4     2     4       3         4   \n",
      "366           2 ...       4         2      2     2     2       5         0   \n",
      "367           3 ...       5         2      1     1     2       1         0   \n",
      "368           2 ...       5         2      3     1     2       4         0   \n",
      "369           3 ...       3         2      2     4     2       5        10   \n",
      "370           2 ...       3         2      2     1     1       3         4   \n",
      "371           3 ...       4         3      3     2     3       3         3   \n",
      "372           1 ...       3         4      3     1     1       3         8   \n",
      "373           1 ...       3         5      5     1     3       1        14   \n",
      "374           2 ...       5         4      4     1     1       1         0   \n",
      "375           4 ...       4         3      2     1     2       4         2   \n",
      "376           2 ...       5         4      3     1     1       3         4   \n",
      "377           1 ...       5         4      3     3     4       2         4   \n",
      "378           1 ...       4         1      3     1     2       1         0   \n",
      "379           1 ...       4         5      4     2     3       1        17   \n",
      "380           1 ...       3         2      4     1     4       2         4   \n",
      "381           2 ...       4         4      3     1     3       5         5   \n",
      "382           2 ...       4         4      3     1     1       3         2   \n",
      "383           2 ...       4         3      2     1     3       5         0   \n",
      "384           2 ...       5         4      3     4     3       3        14   \n",
      "385           2 ...       5         3      3     1     3       4         2   \n",
      "386           3 ...       4         4      3     2     2       5         7   \n",
      "387           1 ...       5         4      2     1     2       5         0   \n",
      "388           1 ...       4         3      4     1     1       1         0   \n",
      "389           2 ...       1         1      1     1     1       5         0   \n",
      "390           1 ...       5         5      4     4     5       4        11   \n",
      "391           2 ...       2         4      5     3     4       2         3   \n",
      "392           1 ...       5         5      3     3     3       3         3   \n",
      "393           3 ...       4         4      1     3     4       5         0   \n",
      "394           1 ...       3         2      3     3     3       5         5   \n",
      "\n",
      "     G1  G2  G3  \n",
      "0     5   6   6  \n",
      "1     5   5   6  \n",
      "2     7   8  10  \n",
      "3    15  14  15  \n",
      "4     6  10  10  \n",
      "5    15  15  15  \n",
      "6    12  12  11  \n",
      "7     6   5   6  \n",
      "8    16  18  19  \n",
      "9    14  15  15  \n",
      "10   10   8   9  \n",
      "11   10  12  12  \n",
      "12   14  14  14  \n",
      "13   10  10  11  \n",
      "14   14  16  16  \n",
      "15   14  14  14  \n",
      "16   13  14  14  \n",
      "17    8  10  10  \n",
      "18    6   5   5  \n",
      "19    8  10  10  \n",
      "20   13  14  15  \n",
      "21   12  15  15  \n",
      "22   15  15  16  \n",
      "23   13  13  12  \n",
      "24   10   9   8  \n",
      "25    6   9   8  \n",
      "26   12  12  11  \n",
      "27   15  16  15  \n",
      "28   11  11  11  \n",
      "29   10  12  11  \n",
      "..   ..  ..  ..  \n",
      "365  10  10  10  \n",
      "366  13  13  13  \n",
      "367   7   6   0  \n",
      "368  11  10  10  \n",
      "369  14  12  11  \n",
      "370   7   7   9  \n",
      "371  14  12  12  \n",
      "372  13  11  11  \n",
      "373   6   5   5  \n",
      "374  19  18  19  \n",
      "375   8   8  10  \n",
      "376  15  14  15  \n",
      "377   8   9  10  \n",
      "378  15  15  15  \n",
      "379  10  10  10  \n",
      "380  15  14  14  \n",
      "381   7   6   7  \n",
      "382  11  11  10  \n",
      "383   6   5   0  \n",
      "384   6   5   5  \n",
      "385  10   9  10  \n",
      "386   6   5   6  \n",
      "387   7   5   0  \n",
      "388   7   9   8  \n",
      "389   6   5   0  \n",
      "390   9   9   9  \n",
      "391  14  16  16  \n",
      "392  10   8   7  \n",
      "393  11  12  10  \n",
      "394   8   9   9  \n",
      "\n",
      "[395 rows x 30 columns]\n"
     ]
    }
   ],
   "source": [
    "data = student_grades.drop([\"school\",\"address\",\"reason\"], 1)\n",
    "\n",
    "data['famsize'] = (data['famsize'] == \"GT3\")*1\n",
    "data['sex'] = (data['sex'] == 'M')*1\n",
    "data['Pstatus'] = (data['Pstatus'] == 'T')*1\n",
    "data.loc[data['guardian'] == 'mother',\"guardian\"] = 1\n",
    "data.loc[data['guardian'] == 'father',\"guardian\"] = 2\n",
    "data.loc[data['guardian'] == 'other',\"guardian\"] = 0\n",
    "data['schoolsup'] = (data['schoolsup'] == 'yes')*1\n",
    "data['famsup'] = (data['famsup'] == 'yes')*1\n",
    "data['paid'] = (data['paid'] == 'yes')*1\n",
    "data['activities'] = (data['activities'] == 'yes')*1\n",
    "data['nursery'] = (data['nursery'] == 'yes')*1\n",
    "data['higher'] = (data['higher'] == 'yes')*1\n",
    "data['internet'] = (data['internet'] == \"yes\")*1\n",
    "data['romantic'] = (data['romantic'] == 'yes')*1\n",
    "print(data)"
   ]
  },
  {
   "cell_type": "code",
   "execution_count": 6,
   "metadata": {},
   "outputs": [
    {
     "data": {
      "text/plain": [
       "array(['sex', 'age', 'famsize', 'Pstatus', 'Medu', 'Fedu', 'Mjob', 'Fjob',\n",
       "       'guardian', 'traveltime', 'studytime', 'failures', 'schoolsup',\n",
       "       'famsup', 'paid', 'activities', 'nursery', 'higher', 'internet',\n",
       "       'romantic', 'famrel', 'freetime', 'goout', 'Dalc', 'Walc', 'health',\n",
       "       'absences', 'G1', 'G2', 'G3'], dtype=object)"
      ]
     },
     "execution_count": 6,
     "metadata": {},
     "output_type": "execute_result"
    }
   ],
   "source": [
    "data.columns.values"
   ]
  },
  {
   "cell_type": "code",
   "execution_count": 7,
   "metadata": {
    "collapsed": true
   },
   "outputs": [],
   "source": [
    "#important fields\n",
    "features = ['sex', 'age', 'famsize', 'Pstatus', 'Medu', 'Fedu',\n",
    "       'guardian', 'traveltime', 'studytime', 'failures', 'schoolsup',\n",
    "       'famsup', 'paid', 'activities', 'nursery', 'higher', 'internet',\n",
    "       'romantic', 'famrel', 'freetime', 'goout', 'Dalc', 'Walc', 'health',\n",
    "       'absences', 'G1', 'G2']"
   ]
  },
  {
   "cell_type": "code",
   "execution_count": 8,
   "metadata": {},
   "outputs": [
    {
     "data": {
      "text/plain": [
       "27"
      ]
     },
     "execution_count": 8,
     "metadata": {},
     "output_type": "execute_result"
    }
   ],
   "source": [
    "len(features)"
   ]
  },
  {
   "cell_type": "code",
   "execution_count": 9,
   "metadata": {
    "collapsed": true
   },
   "outputs": [],
   "source": [
    "x = data[features]\n",
    "y = data['G3']"
   ]
  },
  {
   "cell_type": "code",
   "execution_count": 10,
   "metadata": {},
   "outputs": [
    {
     "data": {
      "text/plain": [
       "0     6\n",
       "1     6\n",
       "2    10\n",
       "3    15\n",
       "4    10\n",
       "Name: G3, dtype: int64"
      ]
     },
     "execution_count": 10,
     "metadata": {},
     "output_type": "execute_result"
    }
   ],
   "source": [
    "y.head()"
   ]
  },
  {
   "cell_type": "code",
   "execution_count": 11,
   "metadata": {},
   "outputs": [
    {
     "name": "stdout",
     "output_type": "stream",
     "text": [
      "sex  :  <class 'numpy.int64'>\n",
      "age  :  <class 'numpy.int64'>\n",
      "famsize  :  <class 'numpy.int64'>\n",
      "Pstatus  :  <class 'numpy.int64'>\n",
      "Medu  :  <class 'numpy.int64'>\n",
      "Fedu  :  <class 'numpy.int64'>\n",
      "guardian  :  <class 'numpy.int64'>\n",
      "traveltime  :  <class 'numpy.int64'>\n",
      "studytime  :  <class 'numpy.int64'>\n",
      "failures  :  <class 'numpy.int64'>\n",
      "schoolsup  :  <class 'numpy.int64'>\n",
      "famsup  :  <class 'numpy.int64'>\n",
      "paid  :  <class 'numpy.int64'>\n",
      "activities  :  <class 'numpy.int64'>\n",
      "nursery  :  <class 'numpy.int64'>\n",
      "higher  :  <class 'numpy.int64'>\n",
      "internet  :  <class 'numpy.int64'>\n",
      "romantic  :  <class 'numpy.int64'>\n",
      "famrel  :  <class 'numpy.int64'>\n",
      "freetime  :  <class 'numpy.int64'>\n",
      "goout  :  <class 'numpy.int64'>\n",
      "Dalc  :  <class 'numpy.int64'>\n",
      "Walc  :  <class 'numpy.int64'>\n",
      "health  :  <class 'numpy.int64'>\n",
      "absences  :  <class 'numpy.int64'>\n",
      "G1  :  <class 'numpy.int64'>\n",
      "G2  :  <class 'numpy.int64'>\n",
      "0      1\n",
      "1      2\n",
      "2      1\n",
      "3      1\n",
      "4      2\n",
      "5      1\n",
      "6      1\n",
      "7      1\n",
      "8      1\n",
      "9      1\n",
      "10     1\n",
      "11     2\n",
      "12     2\n",
      "13     1\n",
      "14     0\n",
      "15     1\n",
      "16     1\n",
      "17     1\n",
      "18     1\n",
      "19     2\n",
      "20     1\n",
      "21     2\n",
      "22     1\n",
      "23     1\n",
      "24     1\n",
      "25     1\n",
      "26     1\n",
      "27     1\n",
      "28     1\n",
      "29     1\n",
      "      ..\n",
      "365    1\n",
      "366    1\n",
      "367    1\n",
      "368    2\n",
      "369    2\n",
      "370    0\n",
      "371    2\n",
      "372    1\n",
      "373    1\n",
      "374    1\n",
      "375    1\n",
      "376    0\n",
      "377    1\n",
      "378    1\n",
      "379    1\n",
      "380    2\n",
      "381    1\n",
      "382    2\n",
      "383    1\n",
      "384    2\n",
      "385    1\n",
      "386    1\n",
      "387    1\n",
      "388    1\n",
      "389    1\n",
      "390    0\n",
      "391    1\n",
      "392    0\n",
      "393    1\n",
      "394    2\n",
      "Name: guardian, Length: 395, dtype: int64\n"
     ]
    }
   ],
   "source": [
    "#checking the data types\n",
    "data[\"guardian\"]=np.array(data[\"guardian\"],dtype='i8')\n",
    "for i in x.columns:\n",
    "    print(i,\" : \",type(data[i][1]))  \n",
    "print(data[\"guardian\"])"
   ]
  },
  {
   "cell_type": "code",
   "execution_count": 12,
   "metadata": {},
   "outputs": [
    {
     "data": {
      "text/html": [
       "<div>\n",
       "<style>\n",
       "    .dataframe thead tr:only-child th {\n",
       "        text-align: right;\n",
       "    }\n",
       "\n",
       "    .dataframe thead th {\n",
       "        text-align: left;\n",
       "    }\n",
       "\n",
       "    .dataframe tbody tr th {\n",
       "        vertical-align: top;\n",
       "    }\n",
       "</style>\n",
       "<table border=\"1\" class=\"dataframe\">\n",
       "  <thead>\n",
       "    <tr style=\"text-align: right;\">\n",
       "      <th></th>\n",
       "      <th>sex</th>\n",
       "      <th>age</th>\n",
       "      <th>famsize</th>\n",
       "      <th>Pstatus</th>\n",
       "      <th>Medu</th>\n",
       "      <th>Fedu</th>\n",
       "      <th>guardian</th>\n",
       "      <th>traveltime</th>\n",
       "      <th>studytime</th>\n",
       "      <th>failures</th>\n",
       "      <th>...</th>\n",
       "      <th>romantic</th>\n",
       "      <th>famrel</th>\n",
       "      <th>freetime</th>\n",
       "      <th>goout</th>\n",
       "      <th>Dalc</th>\n",
       "      <th>Walc</th>\n",
       "      <th>health</th>\n",
       "      <th>absences</th>\n",
       "      <th>G1</th>\n",
       "      <th>G2</th>\n",
       "    </tr>\n",
       "  </thead>\n",
       "  <tbody>\n",
       "    <tr>\n",
       "      <th>0</th>\n",
       "      <td>0</td>\n",
       "      <td>18</td>\n",
       "      <td>1</td>\n",
       "      <td>0</td>\n",
       "      <td>4</td>\n",
       "      <td>4</td>\n",
       "      <td>1</td>\n",
       "      <td>2</td>\n",
       "      <td>2</td>\n",
       "      <td>0</td>\n",
       "      <td>...</td>\n",
       "      <td>0</td>\n",
       "      <td>4</td>\n",
       "      <td>3</td>\n",
       "      <td>4</td>\n",
       "      <td>1</td>\n",
       "      <td>1</td>\n",
       "      <td>3</td>\n",
       "      <td>6</td>\n",
       "      <td>5</td>\n",
       "      <td>6</td>\n",
       "    </tr>\n",
       "    <tr>\n",
       "      <th>1</th>\n",
       "      <td>0</td>\n",
       "      <td>17</td>\n",
       "      <td>1</td>\n",
       "      <td>1</td>\n",
       "      <td>1</td>\n",
       "      <td>1</td>\n",
       "      <td>2</td>\n",
       "      <td>1</td>\n",
       "      <td>2</td>\n",
       "      <td>0</td>\n",
       "      <td>...</td>\n",
       "      <td>0</td>\n",
       "      <td>5</td>\n",
       "      <td>3</td>\n",
       "      <td>3</td>\n",
       "      <td>1</td>\n",
       "      <td>1</td>\n",
       "      <td>3</td>\n",
       "      <td>4</td>\n",
       "      <td>5</td>\n",
       "      <td>5</td>\n",
       "    </tr>\n",
       "  </tbody>\n",
       "</table>\n",
       "<p>2 rows × 27 columns</p>\n",
       "</div>"
      ],
      "text/plain": [
       "   sex  age  famsize  Pstatus  Medu  Fedu  guardian  traveltime  studytime  \\\n",
       "0    0   18        1        0     4     4         1           2          2   \n",
       "1    0   17        1        1     1     1         2           1          2   \n",
       "\n",
       "   failures ...  romantic  famrel  freetime  goout  Dalc  Walc  health  \\\n",
       "0         0 ...         0       4         3      4     1     1       3   \n",
       "1         0 ...         0       5         3      3     1     1       3   \n",
       "\n",
       "   absences  G1  G2  \n",
       "0         6   5   6  \n",
       "1         4   5   5  \n",
       "\n",
       "[2 rows x 27 columns]"
      ]
     },
     "execution_count": 12,
     "metadata": {},
     "output_type": "execute_result"
    }
   ],
   "source": [
    "x = data[features]\n",
    "x.head(2)"
   ]
  },
  {
   "cell_type": "code",
   "execution_count": 13,
   "metadata": {
    "collapsed": true
   },
   "outputs": [],
   "source": [
    "y = data['G3']"
   ]
  },
  {
   "cell_type": "code",
   "execution_count": 14,
   "metadata": {},
   "outputs": [
    {
     "data": {
      "text/plain": [
       "0     6\n",
       "1     6\n",
       "2    10\n",
       "3    15\n",
       "4    10\n",
       "Name: G3, dtype: int64"
      ]
     },
     "execution_count": 14,
     "metadata": {},
     "output_type": "execute_result"
    }
   ],
   "source": [
    "y.head()"
   ]
  },
  {
   "cell_type": "code",
   "execution_count": 15,
   "metadata": {},
   "outputs": [
    {
     "name": "stdout",
     "output_type": "stream",
     "text": [
      "sex  :  <class 'numpy.int64'>\n",
      "age  :  <class 'numpy.int64'>\n",
      "famsize  :  <class 'numpy.int64'>\n",
      "Pstatus  :  <class 'numpy.int64'>\n",
      "Medu  :  <class 'numpy.int64'>\n",
      "Fedu  :  <class 'numpy.int64'>\n",
      "guardian  :  <class 'numpy.int64'>\n",
      "traveltime  :  <class 'numpy.int64'>\n",
      "studytime  :  <class 'numpy.int64'>\n",
      "failures  :  <class 'numpy.int64'>\n",
      "schoolsup  :  <class 'numpy.int64'>\n",
      "famsup  :  <class 'numpy.int64'>\n",
      "paid  :  <class 'numpy.int64'>\n",
      "activities  :  <class 'numpy.int64'>\n",
      "nursery  :  <class 'numpy.int64'>\n",
      "higher  :  <class 'numpy.int64'>\n",
      "internet  :  <class 'numpy.int64'>\n",
      "romantic  :  <class 'numpy.int64'>\n",
      "famrel  :  <class 'numpy.int64'>\n",
      "freetime  :  <class 'numpy.int64'>\n",
      "goout  :  <class 'numpy.int64'>\n",
      "Dalc  :  <class 'numpy.int64'>\n",
      "Walc  :  <class 'numpy.int64'>\n",
      "health  :  <class 'numpy.int64'>\n",
      "absences  :  <class 'numpy.int64'>\n",
      "G1  :  <class 'numpy.int64'>\n",
      "G2  :  <class 'numpy.int64'>\n"
     ]
    }
   ],
   "source": [
    "#checking the data types\n",
    "for i in x.columns:\n",
    "    print(i,\" : \",type(data[i][1]))  "
   ]
  },
  {
   "cell_type": "code",
   "execution_count": 16,
   "metadata": {
    "collapsed": true
   },
   "outputs": [],
   "source": [
    "from sklearn.tree import DecisionTreeRegressor\n",
    "from sklearn.linear_model import LinearRegression\n",
    "from sklearn.model_selection import train_test_split\n",
    "from sklearn.metrics import mean_squared_error\n",
    "from sklearn.ensemble import RandomForestRegressor\n",
    "\n",
    "from math import sqrt"
   ]
  },
  {
   "cell_type": "code",
   "execution_count": 17,
   "metadata": {
    "collapsed": true
   },
   "outputs": [],
   "source": [
    "x_train,x_test,y_train,y_test = train_test_split(x,y,test_size=0.1,random_state=0)"
   ]
  },
  {
   "cell_type": "code",
   "execution_count": 18,
   "metadata": {},
   "outputs": [
    {
     "name": "stdout",
     "output_type": "stream",
     "text": [
      "355 40 355 40\n",
      "Index(['sex', 'age', 'famsize', 'Pstatus', 'Medu', 'Fedu', 'guardian',\n",
      "       'traveltime', 'studytime', 'failures', 'schoolsup', 'famsup', 'paid',\n",
      "       'activities', 'nursery', 'higher', 'internet', 'romantic', 'famrel',\n",
      "       'freetime', 'goout', 'Dalc', 'Walc', 'health', 'absences', 'G1', 'G2'],\n",
      "      dtype='object')\n",
      "1       6\n",
      "293    18\n",
      "278     8\n",
      "255     8\n",
      "204    11\n",
      "153     0\n",
      "190    13\n",
      "383     0\n",
      "246    13\n",
      "164     7\n",
      "235    10\n",
      "107    18\n",
      "52     10\n",
      "10      9\n",
      "26     11\n",
      "45      6\n",
      "232     9\n",
      "223    13\n",
      "249    15\n",
      "194    14\n",
      "345    14\n",
      "289    15\n",
      "15     14\n",
      "158    15\n",
      "259     0\n",
      "5      15\n",
      "286    19\n",
      "308    12\n",
      "7       6\n",
      "328     9\n",
      "       ..\n",
      "243    12\n",
      "115    16\n",
      "265    17\n",
      "72      5\n",
      "333     0\n",
      "25      8\n",
      "165    12\n",
      "337     0\n",
      "379    10\n",
      "174     9\n",
      "381     7\n",
      "39     13\n",
      "193    10\n",
      "314    13\n",
      "88     10\n",
      "70     15\n",
      "87     14\n",
      "292    13\n",
      "242     0\n",
      "277     9\n",
      "211    13\n",
      "9      15\n",
      "359    16\n",
      "195    15\n",
      "251    10\n",
      "323    15\n",
      "192     8\n",
      "117    13\n",
      "47     20\n",
      "172    10\n",
      "Name: G3, Length: 355, dtype: int64\n"
     ]
    }
   ],
   "source": [
    "print(len(x_train),len(x_test),len(y_train),len(y_test))\n",
    "print(x_train.columns)\n",
    "print(y_train)"
   ]
  },
  {
   "cell_type": "code",
   "execution_count": 19,
   "metadata": {},
   "outputs": [
    {
     "data": {
      "text/plain": [
       "RandomForestRegressor(bootstrap=True, criterion='mse', max_depth=10,\n",
       "           max_features='auto', max_leaf_nodes=None,\n",
       "           min_impurity_split=1e-07, min_samples_leaf=1,\n",
       "           min_samples_split=2, min_weight_fraction_leaf=0.0,\n",
       "           n_estimators=150, n_jobs=1, oob_score=False, random_state=None,\n",
       "           verbose=0, warm_start=False)"
      ]
     },
     "execution_count": 19,
     "metadata": {},
     "output_type": "execute_result"
    }
   ],
   "source": [
    "regressor = RandomForestRegressor(max_depth=10,n_estimators=150, min_samples_split=2)\n",
    "regressor.fit(x_train,y_train)"
   ]
  },
  {
   "cell_type": "code",
   "execution_count": 20,
   "metadata": {
    "collapsed": true
   },
   "outputs": [],
   "source": [
    "y_prediction = regressor.predict(x_test)"
   ]
  },
  {
   "cell_type": "code",
   "execution_count": 21,
   "metadata": {},
   "outputs": [
    {
     "data": {
      "text/plain": [
       "array([ 14.14666667,  10.75938141,  10.15338902,  15.59333333,\n",
       "        16.1       ,  12.26380199,  13.01504274,  10.97662744,\n",
       "         9.51895013,  15.17333333,   8.89154362,  11.34841311,\n",
       "        10.82587037,   7.45796667,  15.28      ,  14.14722222,\n",
       "        13.25504274,   7.61154335,   9.57674167,  15.02      ,\n",
       "         3.58666667,   0.72      ,   2.94166667,  15.08      ,\n",
       "        12.62222222,  16.41333333,  10.21870132,  18.98666667,\n",
       "         0.61333333,  13.35333333,   0.46666667,   8.30532234,\n",
       "         8.20926236,   6.06      ,  12.74611111,  10.52666667,\n",
       "        13.00222222,  18.23333333,   5.71955628,  12.28945014])"
      ]
     },
     "execution_count": 21,
     "metadata": {},
     "output_type": "execute_result"
    }
   ],
   "source": [
    "y_prediction"
   ]
  },
  {
   "cell_type": "code",
   "execution_count": 22,
   "metadata": {},
   "outputs": [
    {
     "name": "stdout",
     "output_type": "stream",
     "text": [
      "329    14\n",
      "318    10\n",
      "317     9\n",
      "65     15\n",
      "59     16\n",
      "287    12\n",
      "212    14\n",
      "60     11\n",
      "394     9\n",
      "324    15\n",
      "375    10\n",
      "74     11\n",
      "76     10\n",
      "106     8\n",
      "215    15\n",
      "12     14\n",
      "132    12\n",
      "264     0\n",
      "268    10\n",
      "167    16\n",
      "168     0\n",
      "150     0\n",
      "90      8\n",
      "171    16\n",
      "282    12\n",
      "37     15\n",
      "339    10\n",
      "113    19\n",
      "135     0\n",
      "102    14\n",
      "144     0\n",
      "78     10\n",
      "330     8\n",
      "216     4\n",
      "233    13\n",
      "309    10\n",
      "54     13\n",
      "260    18\n",
      "253     8\n",
      "6      11\n",
      "Name: G3, dtype: int64\n"
     ]
    }
   ],
   "source": [
    "print(y_test)"
   ]
  },
  {
   "cell_type": "code",
   "execution_count": 23,
   "metadata": {
    "scrolled": true
   },
   "outputs": [
    {
     "name": "stdout",
     "output_type": "stream",
     "text": [
      "sex  :  0.00128202363647\n",
      "age  :  0.0172709983946\n",
      "famsize  :  0.0012676619535\n",
      "Pstatus  :  0.000504355871501\n",
      "Medu  :  0.00319692619441\n",
      "Fedu  :  0.00544715537165\n",
      "guardian  :  0.00235582507746\n",
      "traveltime  :  0.00278629185192\n",
      "studytime  :  0.00542093279701\n",
      "failures  :  0.00445039076988\n",
      "schoolsup  :  0.00413151732324\n",
      "famsup  :  0.000904402518674\n",
      "paid  :  0.00210711359015\n",
      "activities  :  0.00607728209606\n",
      "nursery  :  0.00168898755012\n",
      "higher  :  0.00045091028524\n",
      "internet  :  0.000811319465202\n",
      "romantic  :  0.00201390608874\n",
      "famrel  :  0.00729557039858\n",
      "freetime  :  0.00423115118682\n",
      "goout  :  0.00507335342103\n",
      "Dalc  :  0.00186410529508\n",
      "Walc  :  0.00463425042287\n",
      "health  :  0.0109575693548\n",
      "absences  :  0.121763947373\n",
      "G1  :  0.00817867937618\n",
      "G2  :  0.773833372336\n"
     ]
    }
   ],
   "source": [
    "array = regressor.feature_importances_\n",
    "for i in range(0,len(x.columns)):\n",
    "   print(x.columns[i],\" : \",array[i])"
   ]
  },
  {
   "cell_type": "code",
   "execution_count": 24,
   "metadata": {},
   "outputs": [
    {
     "name": "stdout",
     "output_type": "stream",
     "text": [
      "1.7634176464564209\n"
     ]
    }
   ],
   "source": [
    "RMSE = sqrt(mean_squared_error(y_true=y_test,y_pred=y_prediction))\n",
    "print(RMSE)"
   ]
  },
  {
   "cell_type": "code",
   "execution_count": 25,
   "metadata": {
    "scrolled": true
   },
   "outputs": [
    {
     "name": "stdout",
     "output_type": "stream",
     "text": [
      "sex  correlation :  0.103455647466\n",
      "age  correlation :  -0.161579438138\n",
      "famsize  correlation :  -0.0814071097726\n",
      "Pstatus  correlation :  -0.0580089849593\n",
      "Medu  correlation :  0.217147496139\n",
      "Fedu  correlation :  0.152456938904\n",
      "guardian  correlation :  0.0701091004373\n",
      "traveltime  correlation :  -0.117142052816\n",
      "studytime  correlation :  0.0978196896532\n",
      "failures  correlation :  -0.360414940462\n",
      "schoolsup  correlation :  -0.0827882149932\n",
      "famsup  correlation :  -0.0391571452379\n",
      "paid  correlation :  0.101996240717\n",
      "activities  correlation :  0.0160997012958\n",
      "nursery  correlation :  0.0515679009109\n",
      "higher  correlation :  0.182464617858\n",
      "internet  correlation :  0.0984833712607\n",
      "romantic  correlation :  -0.129969950163\n",
      "famrel  correlation :  0.0513634288813\n",
      "freetime  correlation :  0.0113072403083\n",
      "goout  correlation :  -0.132791473503\n",
      "Dalc  correlation :  -0.0546600405667\n",
      "Walc  correlation :  -0.0519393237422\n",
      "health  correlation :  -0.0613346048771\n",
      "absences  correlation :  0.0342473161501\n",
      "G1  correlation :  0.801467932017\n",
      "G2  correlation :  0.904867989269\n"
     ]
    }
   ],
   "source": [
    "values = []\n",
    "\n",
    "for i in x.columns:\n",
    "    print(i,\" correlation : \",data['G3'].corr(data[i]))\n",
    "    values.append(data['G3'].corr(data[i]))\n",
    "    "
   ]
  },
  {
   "cell_type": "code",
   "execution_count": 26,
   "metadata": {},
   "outputs": [
    {
     "data": {
      "text/plain": [
       "[-0.36041494046164968,\n",
       " -0.16157943813834058,\n",
       " -0.13279147350332923,\n",
       " -0.12996995016344978,\n",
       " -0.11714205281614901,\n",
       " -0.082788214993163287,\n",
       " -0.081407109772554373,\n",
       " -0.061334604877121369,\n",
       " -0.058008984959311186,\n",
       " -0.054660040566735971,\n",
       " -0.051939323742246163,\n",
       " -0.039157145237904707,\n",
       " 0.011307240308313026,\n",
       " 0.016099701295814482,\n",
       " 0.034247316150069311,\n",
       " 0.051363428881282147,\n",
       " 0.051567900910917536,\n",
       " 0.070109100437267605,\n",
       " 0.097819689653196262,\n",
       " 0.098483371260728869,\n",
       " 0.10199624071669922,\n",
       " 0.10345564746639291,\n",
       " 0.15245693890425902,\n",
       " 0.18246461785815765,\n",
       " 0.21714749613860598,\n",
       " 0.80146793201741462,\n",
       " 0.9048679892693009]"
      ]
     },
     "execution_count": 26,
     "metadata": {},
     "output_type": "execute_result"
    }
   ],
   "source": [
    "values.sort()\n",
    "values"
   ]
  },
  {
   "cell_type": "code",
   "execution_count": 27,
   "metadata": {},
   "outputs": [
    {
     "data": {
      "text/plain": [
       "sex            1\n",
       "age           22\n",
       "famsize        1\n",
       "Pstatus        1\n",
       "Medu           4\n",
       "Fedu           4\n",
       "guardian       2\n",
       "traveltime     4\n",
       "studytime      4\n",
       "failures       3\n",
       "schoolsup      1\n",
       "famsup         1\n",
       "paid           1\n",
       "activities     1\n",
       "nursery        1\n",
       "higher         1\n",
       "internet       1\n",
       "romantic       1\n",
       "famrel         5\n",
       "freetime       5\n",
       "goout          5\n",
       "Dalc           5\n",
       "Walc           5\n",
       "health         5\n",
       "absences      75\n",
       "G1            19\n",
       "G2            19\n",
       "dtype: int64"
      ]
     },
     "execution_count": 27,
     "metadata": {},
     "output_type": "execute_result"
    }
   ],
   "source": [
    "\n",
    "data[features].max()"
   ]
  },
  {
   "cell_type": "code",
   "execution_count": 35,
   "metadata": {},
   "outputs": [
    {
     "name": "stdout",
     "output_type": "stream",
     "text": [
      "Welcome!!! Please Enter your name: eren\n",
      "Please mention the no. of hours you study in a day : 2\n",
      "Mention your daily travel time : 3\n",
      "What is your age : 18\n",
      "How much of time do you spend with your friends : 3\n",
      "Are you presently in a relationship'(yes or no)'yes\n",
      "Do you wish to pursue higher studies '(yes or no)': no\n",
      "On a scale of 1 to 5 what is your family education '(1 being primary to 5 being a college degree)' :3\n",
      "Mention your score in first test : 15\n",
      "Mention your score in second test : 12\n",
      "how many test have you failed '(1 ,2 or 3)' : 2\n"
     ]
    },
    {
     "data": {
      "text/plain": [
       "['eren', '2', '3', '18', '3', 'yes', 'no', '3', '15', '12', '2']"
      ]
     },
     "execution_count": 35,
     "metadata": {},
     "output_type": "execute_result"
    }
   ],
   "source": [
    "## User_data input\n",
    "user_data=[]\n",
    "user_name = input(\"Welcome!!! Please Enter your name: \")\n",
    "while not(isinstance(user_name, str)):\n",
    "    print (\"please enter a valid string\")\n",
    "    user_name = input(\"Welcome!!! Please Enter your name: \")\n",
    "user_name=str(user_name)\n",
    "user_data.append(user_name)\n",
    "data1 = input(\"Please mention the no. of hours you study in a day : \")\n",
    "\n",
    "data2 = input(\"Mention your daily travel time : \")\n",
    "\n",
    "data3 = input(\"What is your age : \")\n",
    "data4 = input(\"How much of time do you spend with your friends : \")\n",
    "\n",
    "data5 = input(\"Are you presently in a relationship'(yes or no)'\")\n",
    "data6 = input(\"Do you wish to pursue higher studies '(yes or no)': \")\n",
    "data7 = input(\"On a scale of 1 to 5 what is your family education '(1 being primary to 5 being a college degree)' :\")\n",
    "data8 = input(\"Mention your score in first test : \")\n",
    "data9 = input(\"Mention your score in second test : \")\n",
    "data10 = input(\"how many test have you failed '(1 ,2 or 3)' : \")\n",
    "\n",
    "for i in range(1,11):\n",
    "    data = \"data\"+str(i)\n",
    "    user_data.append(globals()[data]) \n",
    "user_data    "
   ]
  },
  {
   "cell_type": "code",
   "execution_count": 36,
   "metadata": {},
   "outputs": [
    {
     "data": {
      "text/html": [
       "<div>\n",
       "<style>\n",
       "    .dataframe thead tr:only-child th {\n",
       "        text-align: right;\n",
       "    }\n",
       "\n",
       "    .dataframe thead th {\n",
       "        text-align: left;\n",
       "    }\n",
       "\n",
       "    .dataframe tbody tr th {\n",
       "        vertical-align: top;\n",
       "    }\n",
       "</style>\n",
       "<table border=\"1\" class=\"dataframe\">\n",
       "  <thead>\n",
       "    <tr style=\"text-align: right;\">\n",
       "      <th></th>\n",
       "      <th>sex</th>\n",
       "      <th>age</th>\n",
       "      <th>famsize</th>\n",
       "      <th>Pstatus</th>\n",
       "      <th>Medu</th>\n",
       "      <th>Fedu</th>\n",
       "      <th>guardian</th>\n",
       "      <th>traveltime</th>\n",
       "      <th>studytime</th>\n",
       "      <th>failures</th>\n",
       "      <th>...</th>\n",
       "      <th>romantic</th>\n",
       "      <th>famrel</th>\n",
       "      <th>freetime</th>\n",
       "      <th>goout</th>\n",
       "      <th>Dalc</th>\n",
       "      <th>Walc</th>\n",
       "      <th>health</th>\n",
       "      <th>absences</th>\n",
       "      <th>G1</th>\n",
       "      <th>G2</th>\n",
       "    </tr>\n",
       "  </thead>\n",
       "  <tbody>\n",
       "    <tr>\n",
       "      <th>1</th>\n",
       "      <td>0</td>\n",
       "      <td>17</td>\n",
       "      <td>1</td>\n",
       "      <td>1</td>\n",
       "      <td>1</td>\n",
       "      <td>1</td>\n",
       "      <td>2</td>\n",
       "      <td>1</td>\n",
       "      <td>2</td>\n",
       "      <td>0</td>\n",
       "      <td>...</td>\n",
       "      <td>0</td>\n",
       "      <td>5</td>\n",
       "      <td>3</td>\n",
       "      <td>3</td>\n",
       "      <td>1</td>\n",
       "      <td>1</td>\n",
       "      <td>3</td>\n",
       "      <td>4</td>\n",
       "      <td>5</td>\n",
       "      <td>5</td>\n",
       "    </tr>\n",
       "  </tbody>\n",
       "</table>\n",
       "<p>1 rows × 27 columns</p>\n",
       "</div>"
      ],
      "text/plain": [
       "   sex  age  famsize  Pstatus  Medu  Fedu  guardian  traveltime  studytime  \\\n",
       "1    0   17        1        1     1     1         2           1          2   \n",
       "\n",
       "   failures ...  romantic  famrel  freetime  goout  Dalc  Walc  health  \\\n",
       "1         0 ...         0       5         3      3     1     1       3   \n",
       "\n",
       "   absences  G1  G2  \n",
       "1         4   5   5  \n",
       "\n",
       "[1 rows x 27 columns]"
      ]
     },
     "execution_count": 36,
     "metadata": {},
     "output_type": "execute_result"
    }
   ],
   "source": [
    "user = x_train.head(1)\n",
    "user"
   ]
  },
  {
   "cell_type": "code",
   "execution_count": 37,
   "metadata": {},
   "outputs": [
    {
     "name": "stdout",
     "output_type": "stream",
     "text": [
      "[1    1\n",
      "Name: higher, dtype: int64]\n"
     ]
    }
   ],
   "source": [
    "print([user['higher']])"
   ]
  },
  {
   "cell_type": "code",
   "execution_count": 38,
   "metadata": {},
   "outputs": [
    {
     "data": {
      "text/html": [
       "<div>\n",
       "<style>\n",
       "    .dataframe thead tr:only-child th {\n",
       "        text-align: right;\n",
       "    }\n",
       "\n",
       "    .dataframe thead th {\n",
       "        text-align: left;\n",
       "    }\n",
       "\n",
       "    .dataframe tbody tr th {\n",
       "        vertical-align: top;\n",
       "    }\n",
       "</style>\n",
       "<table border=\"1\" class=\"dataframe\">\n",
       "  <thead>\n",
       "    <tr style=\"text-align: right;\">\n",
       "      <th></th>\n",
       "      <th>sex</th>\n",
       "      <th>age</th>\n",
       "      <th>famsize</th>\n",
       "      <th>Pstatus</th>\n",
       "      <th>Medu</th>\n",
       "      <th>Fedu</th>\n",
       "      <th>guardian</th>\n",
       "      <th>traveltime</th>\n",
       "      <th>studytime</th>\n",
       "      <th>failures</th>\n",
       "      <th>...</th>\n",
       "      <th>romantic</th>\n",
       "      <th>famrel</th>\n",
       "      <th>freetime</th>\n",
       "      <th>goout</th>\n",
       "      <th>Dalc</th>\n",
       "      <th>Walc</th>\n",
       "      <th>health</th>\n",
       "      <th>absences</th>\n",
       "      <th>G1</th>\n",
       "      <th>G2</th>\n",
       "    </tr>\n",
       "  </thead>\n",
       "  <tbody>\n",
       "    <tr>\n",
       "      <th>1</th>\n",
       "      <td>0</td>\n",
       "      <td>17</td>\n",
       "      <td>1</td>\n",
       "      <td>1</td>\n",
       "      <td>1</td>\n",
       "      <td>1</td>\n",
       "      <td>2</td>\n",
       "      <td>1</td>\n",
       "      <td>2</td>\n",
       "      <td>0</td>\n",
       "      <td>...</td>\n",
       "      <td>0</td>\n",
       "      <td>5</td>\n",
       "      <td>3</td>\n",
       "      <td>3</td>\n",
       "      <td>1</td>\n",
       "      <td>1</td>\n",
       "      <td>3</td>\n",
       "      <td>4</td>\n",
       "      <td>5</td>\n",
       "      <td>5</td>\n",
       "    </tr>\n",
       "  </tbody>\n",
       "</table>\n",
       "<p>1 rows × 27 columns</p>\n",
       "</div>"
      ],
      "text/plain": [
       "   sex  age  famsize  Pstatus  Medu  Fedu  guardian  traveltime  studytime  \\\n",
       "1    0   17        1        1     1     1         2           1          2   \n",
       "\n",
       "   failures ...  romantic  famrel  freetime  goout  Dalc  Walc  health  \\\n",
       "1         0 ...         0       5         3      3     1     1       3   \n",
       "\n",
       "   absences  G1  G2  \n",
       "1         4   5   5  \n",
       "\n",
       "[1 rows x 27 columns]"
      ]
     },
     "execution_count": 38,
     "metadata": {},
     "output_type": "execute_result"
    }
   ],
   "source": [
    "user"
   ]
  },
  {
   "cell_type": "code",
   "execution_count": 39,
   "metadata": {},
   "outputs": [
    {
     "data": {
      "text/plain": [
       "array([ 5.99333333])"
      ]
     },
     "execution_count": 39,
     "metadata": {},
     "output_type": "execute_result"
    }
   ],
   "source": [
    "predict = regressor.predict(user)\n",
    "predict"
   ]
  },
  {
   "cell_type": "code",
   "execution_count": 87,
   "metadata": {},
   "outputs": [
    {
     "data": {
      "text/html": [
       "<div>\n",
       "<style>\n",
       "    .dataframe thead tr:only-child th {\n",
       "        text-align: right;\n",
       "    }\n",
       "\n",
       "    .dataframe thead th {\n",
       "        text-align: left;\n",
       "    }\n",
       "\n",
       "    .dataframe tbody tr th {\n",
       "        vertical-align: top;\n",
       "    }\n",
       "</style>\n",
       "<table border=\"1\" class=\"dataframe\">\n",
       "  <thead>\n",
       "    <tr style=\"text-align: right;\">\n",
       "      <th></th>\n",
       "      <th>raisedhands</th>\n",
       "      <th>VisITedResources</th>\n",
       "      <th>AnnouncementsView</th>\n",
       "      <th>Discussion</th>\n",
       "      <th>StudentAbsenceDays</th>\n",
       "      <th>age</th>\n",
       "      <th>traveltime</th>\n",
       "      <th>studytime</th>\n",
       "      <th>failures</th>\n",
       "      <th>schoolsup</th>\n",
       "      <th>...</th>\n",
       "      <th>internet</th>\n",
       "      <th>romantic</th>\n",
       "      <th>freetime</th>\n",
       "      <th>goout</th>\n",
       "      <th>Dalc</th>\n",
       "      <th>Walc</th>\n",
       "      <th>health</th>\n",
       "      <th>absences</th>\n",
       "      <th>G1</th>\n",
       "      <th>G2</th>\n",
       "    </tr>\n",
       "  </thead>\n",
       "  <tbody>\n",
       "    <tr>\n",
       "      <th>59</th>\n",
       "      <td>27</td>\n",
       "      <td>22</td>\n",
       "      <td>22</td>\n",
       "      <td>40</td>\n",
       "      <td>1</td>\n",
       "      <td>19</td>\n",
       "      <td>4</td>\n",
       "      <td>5</td>\n",
       "      <td>0</td>\n",
       "      <td>0</td>\n",
       "      <td>...</td>\n",
       "      <td>1</td>\n",
       "      <td>0</td>\n",
       "      <td>2</td>\n",
       "      <td>3</td>\n",
       "      <td>1</td>\n",
       "      <td>1</td>\n",
       "      <td>5</td>\n",
       "      <td>2</td>\n",
       "      <td>17</td>\n",
       "      <td>18</td>\n",
       "    </tr>\n",
       "  </tbody>\n",
       "</table>\n",
       "<p>1 rows × 27 columns</p>\n",
       "</div>"
      ],
      "text/plain": [
       "    raisedhands  VisITedResources  AnnouncementsView  Discussion  \\\n",
       "59           27                22                 22          40   \n",
       "\n",
       "    StudentAbsenceDays age traveltime studytime failures  schoolsup ...  \\\n",
       "59                   1  19          4         5        0          0 ...   \n",
       "\n",
       "   internet  romantic  freetime  goout  Dalc  Walc  health  absences  G1  G2  \n",
       "59        1         0         2      3     1     1       5         2  17  18  \n",
       "\n",
       "[1 rows x 27 columns]"
      ]
     },
     "execution_count": 87,
     "metadata": {},
     "output_type": "execute_result"
    }
   ],
   "source": [
    "print(x_train[\"raisedhands\"].median())\n",
    "user = {'raisedhands':int(x_train[\"raisedhands\"].median()), 'VisITedResources':int(x_train[\"VisITedResources\"].median()), 'AnnouncementsView':int(x_train[\"AnnouncementsView\"].median()),\n",
    "       'Discussion':int(x_train[\"Discussion\"].median()), 'StudentAbsenceDays':int(x_train[\"StudentAbsenceDays\"].median()), 'age':user_data[3], 'traveltime':user_data[2],\n",
    "       'studytime':user_data[1], 'failures':user_data[10], 'schoolsup':int(x_train[\"schoolsup\"].median()), 'Medu':user_data[7], 'Fedu':user_data[7], 'famsup':int(x_train[\"famsup\"].median()),\n",
    "       'paid':int(x_train[\"paid\"].median()), 'activities':int(x_train[\"activities\"].median()), 'nursery':int(x_train[\"nursery\"].median()), 'higher':0, 'internet':int(x_train[\"internet\"].median()), 'romantic':int(x_train[\"romantic\"].median()),\n",
    "       'freetime':int(x_train[\"freetime\"].median()), 'goout':user_data[4], 'Dalc':int(x_train[\"Dalc\"].median()), 'Walc':int(x_train[\"Walc\"].median()), 'health':int(x_train[\"health\"].median()), 'absences':int(x_train[\"absences\"].median()), 'G1':user_data[8],\n",
    "       'G2':user_data[9]}\n",
    "user"
   ]
  },
  {
   "cell_type": "code",
   "execution_count": 43,
   "metadata": {},
   "outputs": [
    {
     "data": {
      "text/plain": [
       "array([ 5.99333333])"
      ]
     },
     "execution_count": 43,
     "metadata": {},
     "output_type": "execute_result"
    }
   ],
   "source": [
    "\n",
    "regressor.predict(user)"
   ]
  },
  {
   "cell_type": "code",
   "execution_count": 46,
   "metadata": {},
   "outputs": [
    {
     "name": "stdout",
     "output_type": "stream",
     "text": [
      "Enter your target score : 12\n",
      "     goout  studytime\n",
      "204      5          4\n",
      "190      3          2\n",
      "246      2          1\n",
      "26       2          1\n",
      "223      3          2\n",
      "308      3          2\n",
      "142      2          3\n",
      "366      2          3\n",
      "319      4          2\n",
      "154      1          1\n",
      "311      1          2\n",
      "81       2          3\n",
      "336      3          3\n",
      "181      3          2\n",
      "241      3          2\n",
      "122      2          2\n",
      "176      4          2\n",
      "145      2          2\n",
      "66       3          4\n",
      "229      3          3\n",
      "186      3          1\n",
      "179      3          2\n",
      "30       2          2\n",
      "356      3          2\n",
      "300      4          2\n",
      "325      3          3\n",
      "360      4          2\n",
      "112      2          2\n",
      "126      2          2\n",
      "159      5          2\n",
      "..     ...        ...\n",
      "23       4          2\n",
      "43       1          1\n",
      "256      3          4\n",
      "364      2          2\n",
      "305      3          2\n",
      "207      2          2\n",
      "227      3          2\n",
      "143      4          1\n",
      "262      2          3\n",
      "340      4          3\n",
      "361      3          2\n",
      "267      4          2\n",
      "119      3          1\n",
      "257      1          2\n",
      "105      3          4\n",
      "38       2          3\n",
      "53       4          1\n",
      "290      2          2\n",
      "28       3          2\n",
      "185      4          2\n",
      "357      3          2\n",
      "147      2          2\n",
      "285      3          2\n",
      "243      2          1\n",
      "165      2          1\n",
      "39       1          1\n",
      "314      2          3\n",
      "292      3          2\n",
      "211      5          2\n",
      "117      2          1\n",
      "\n",
      "[101 rows x 2 columns]\n"
     ]
    }
   ],
   "source": [
    "score = input(\"Enter your target score : \")\n",
    "score1 = int(score)\n",
    "print(x_train[np.logical_and(y_train>=score1-1,y_train<=score1+1)][[\"goout\",\"studytime\"]])\n"
   ]
  },
  {
   "cell_type": "markdown",
   "metadata": {
    "collapsed": true
   },
   "source": [
    "#### College prediction on the basis of students score (v1)"
   ]
  },
  {
   "cell_type": "code",
   "execution_count": 47,
   "metadata": {},
   "outputs": [],
   "source": [
    "data_college = pd.read_csv('hackathon_data/college.csv')"
   ]
  },
  {
   "cell_type": "code",
   "execution_count": 50,
   "metadata": {},
   "outputs": [],
   "source": [
    "data_required = data_college[['INSTNM','SAT_AVG_ALL']]"
   ]
  },
  {
   "cell_type": "code",
   "execution_count": 51,
   "metadata": {
    "collapsed": true
   },
   "outputs": [],
   "source": [
    "data = data_required.dropna()"
   ]
  },
  {
   "cell_type": "code",
   "execution_count": 66,
   "metadata": {},
   "outputs": [
    {
     "name": "stderr",
     "output_type": "stream",
     "text": [
      "/usr/local/lib/python3.5/dist-packages/ipykernel_launcher.py:1: SettingWithCopyWarning: \n",
      "A value is trying to be set on a copy of a slice from a DataFrame.\n",
      "Try using .loc[row_indexer,col_indexer] = value instead\n",
      "\n",
      "See the caveats in the documentation: http://pandas.pydata.org/pandas-docs/stable/indexing.html#indexing-view-versus-copy\n",
      "  \"\"\"Entry point for launching an IPython kernel.\n",
      "/usr/local/lib/python3.5/dist-packages/ipykernel_launcher.py:4: SettingWithCopyWarning: \n",
      "A value is trying to be set on a copy of a slice from a DataFrame.\n",
      "Try using .loc[row_indexer,col_indexer] = value instead\n",
      "\n",
      "See the caveats in the documentation: http://pandas.pydata.org/pandas-docs/stable/indexing.html#indexing-view-versus-copy\n",
      "  after removing the cwd from sys.path.\n"
     ]
    }
   ],
   "source": [
    "data['z_score']=0\n",
    "z_score = stats.zscore(data['SAT_AVG_ALL'])\n",
    "z_score = z_score.round(2)\n",
    "data['z_score'] = z_score\n"
   ]
  },
  {
   "cell_type": "code",
   "execution_count": 52,
   "metadata": {
    "collapsed": true
   },
   "outputs": [],
   "source": [
    "from scipy.stats import norm,stats"
   ]
  },
  {
   "cell_type": "code",
   "execution_count": 58,
   "metadata": {},
   "outputs": [
    {
     "data": {
      "text/plain": [
       "numpy.float64"
      ]
     },
     "execution_count": 58,
     "metadata": {},
     "output_type": "execute_result"
    }
   ],
   "source": [
    "type(predict[0])"
   ]
  },
  {
   "cell_type": "code",
   "execution_count": 60,
   "metadata": {},
   "outputs": [],
   "source": [
    "data_grades = student_grades['G3']"
   ]
  },
  {
   "cell_type": "code",
   "execution_count": 61,
   "metadata": {
    "collapsed": true
   },
   "outputs": [],
   "source": [
    "\n",
    "data_grades = np.append(data_grades,predict[0])"
   ]
  },
  {
   "cell_type": "code",
   "execution_count": 65,
   "metadata": {
    "collapsed": true
   },
   "outputs": [],
   "source": [
    "zscore_student = stats.zscore(data_grades)"
   ]
  },
  {
   "cell_type": "code",
   "execution_count": 67,
   "metadata": {
    "collapsed": true
   },
   "outputs": [],
   "source": [
    "zscore_student = zscore_student.round(2)"
   ]
  },
  {
   "cell_type": "markdown",
   "metadata": {},
   "source": [
    "##### following are the list of colleges a student can get with following grades\n"
   ]
  },
  {
   "cell_type": "code",
   "execution_count": 69,
   "metadata": {},
   "outputs": [
    {
     "data": {
      "text/plain": [
       "714                        Barry University\n",
       "1271            Graceland University-Lamoni\n",
       "7380            Barry University Law School\n",
       "7432    Graceland University - Independence\n",
       "Name: INSTNM, dtype: object"
      ]
     },
     "execution_count": 69,
     "metadata": {},
     "output_type": "execute_result"
    }
   ],
   "source": [
    "data['INSTNM'][data['z_score'] == zscore_student[-1]]"
   ]
  },
  {
   "cell_type": "code",
   "execution_count": null,
   "metadata": {
    "collapsed": true
   },
   "outputs": [],
   "source": []
  }
 ],
 "metadata": {
  "kernelspec": {
   "display_name": "Python 3",
   "language": "python",
   "name": "python3"
  },
  "language_info": {
   "codemirror_mode": {
    "name": "ipython",
    "version": 3
   },
   "file_extension": ".py",
   "mimetype": "text/x-python",
   "name": "python",
   "nbconvert_exporter": "python",
   "pygments_lexer": "ipython3",
   "version": "3.5.2"
  }
 },
 "nbformat": 4,
 "nbformat_minor": 2
}
